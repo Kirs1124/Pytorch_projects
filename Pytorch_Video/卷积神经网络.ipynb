{
 "cells": [
  {
   "cell_type": "markdown",
   "metadata": {},
   "source": [
    "### $Convolution$\n",
    "\n",
    "$F(x,y)=\\int{I(x^{'},y^{'})k(x-x^{'},y-y^{'})}dxdy$\n",
    "\n",
    "- $Input\\_channels$\n",
    "\n",
    "- $Kernel\\_channels$\n",
    "\n",
    "- $Kernel\\_size$\n",
    "\n",
    "- $Stride$\n",
    "\n",
    "- $Padding$ \n",
    "\n",
    "$H_{out} = \\frac{H_{in}+2\\times padding[0]-dilation[0]\\times(kernel\\_size[0]-)-1}{stride[0]}+1$\n",
    "\n",
    "$W_{out} = \\frac{W_{in}+2\\times padding[1]-dilation[1]\\times(kernel\\_size[1]-)-1}{stride[1]}+1$"
   ]
  },
  {
   "cell_type": "code",
   "execution_count": 1,
   "metadata": {},
   "outputs": [],
   "source": [
    "import torch\n",
    "import torch.nn as nn\n",
    "from torch.nn import functional as F"
   ]
  },
  {
   "cell_type": "markdown",
   "metadata": {},
   "source": [
    "$nn.Conv2d$"
   ]
  },
  {
   "cell_type": "code",
   "execution_count": 2,
   "metadata": {},
   "outputs": [],
   "source": [
    "# input_channels,kernel_channels,kernel_size,stride,padding\n",
    "\n",
    "layer = nn.Conv2d(1,3,kernel_size = 3,stride = 1,padding = 0)\n",
    "x = torch.rand(1,1,28,28)"
   ]
  },
  {
   "cell_type": "code",
   "execution_count": 3,
   "metadata": {},
   "outputs": [
    {
     "data": {
      "text/plain": [
       "torch.Size([1, 3, 26, 26])"
      ]
     },
     "execution_count": 3,
     "metadata": {},
     "output_type": "execute_result"
    }
   ],
   "source": [
    "out = layer.forward(x)\n",
    "out.size()"
   ]
  },
  {
   "cell_type": "code",
   "execution_count": 4,
   "metadata": {},
   "outputs": [
    {
     "data": {
      "text/plain": [
       "torch.Size([1, 3, 28, 28])"
      ]
     },
     "execution_count": 4,
     "metadata": {},
     "output_type": "execute_result"
    }
   ],
   "source": [
    "layer = nn.Conv2d(1,3,kernel_size = 3,stride = 1,padding = 1)\n",
    "out = layer.forward(x)\n",
    "out.size()"
   ]
  },
  {
   "cell_type": "code",
   "execution_count": 5,
   "metadata": {},
   "outputs": [
    {
     "data": {
      "text/plain": [
       "torch.Size([1, 3, 14, 14])"
      ]
     },
     "execution_count": 5,
     "metadata": {},
     "output_type": "execute_result"
    }
   ],
   "source": [
    "layer = nn.Conv2d(1,3,kernel_size = 3,stride = 2,padding = 1)\n",
    "out = layer.forward(x)\n",
    "out.size()"
   ]
  },
  {
   "cell_type": "code",
   "execution_count": 6,
   "metadata": {},
   "outputs": [
    {
     "data": {
      "text/plain": [
       "torch.Size([1, 3, 14, 14])"
      ]
     },
     "execution_count": 6,
     "metadata": {},
     "output_type": "execute_result"
    }
   ],
   "source": [
    "out = layer(x)\n",
    "out.size()"
   ]
  },
  {
   "cell_type": "markdown",
   "metadata": {},
   "source": [
    "$Inner\\space weight\\&bias$"
   ]
  },
  {
   "cell_type": "code",
   "execution_count": 7,
   "metadata": {},
   "outputs": [
    {
     "data": {
      "text/plain": [
       "Parameter containing:\n",
       "tensor([[[[ 0.1177, -0.2268, -0.0848],\n",
       "          [ 0.1112,  0.0008, -0.2886],\n",
       "          [-0.0467, -0.0015, -0.2748]]],\n",
       "\n",
       "\n",
       "        [[[-0.0333, -0.3052, -0.0622],\n",
       "          [ 0.0809, -0.3106, -0.2522],\n",
       "          [ 0.1136, -0.2373, -0.2562]]],\n",
       "\n",
       "\n",
       "        [[[ 0.0899,  0.2084,  0.2961],\n",
       "          [-0.2153,  0.0674,  0.2050],\n",
       "          [-0.3263, -0.1129, -0.2543]]]], requires_grad=True)"
      ]
     },
     "execution_count": 7,
     "metadata": {},
     "output_type": "execute_result"
    }
   ],
   "source": [
    "layer.weight"
   ]
  },
  {
   "cell_type": "code",
   "execution_count": 8,
   "metadata": {},
   "outputs": [
    {
     "data": {
      "text/plain": [
       "torch.Size([3, 1, 3, 3])"
      ]
     },
     "execution_count": 8,
     "metadata": {},
     "output_type": "execute_result"
    }
   ],
   "source": [
    "layer.weight.shape"
   ]
  },
  {
   "cell_type": "code",
   "execution_count": 9,
   "metadata": {},
   "outputs": [
    {
     "data": {
      "text/plain": [
       "torch.Size([3])"
      ]
     },
     "execution_count": 9,
     "metadata": {},
     "output_type": "execute_result"
    }
   ],
   "source": [
    "layer.bias.shape"
   ]
  },
  {
   "cell_type": "markdown",
   "metadata": {},
   "source": [
    "$F.conv2d$"
   ]
  },
  {
   "cell_type": "code",
   "execution_count": 10,
   "metadata": {},
   "outputs": [],
   "source": [
    "w = torch.rand(16,3,5,5)\n",
    "b = torch.rand(16)"
   ]
  },
  {
   "cell_type": "markdown",
   "metadata": {},
   "source": [
    "$Error$\n",
    "\n",
    "```python\n",
    "out = F.conv2d(x,w,b,stride = 1,padding = 1)\n",
    "---------------------------------------------------------------------------\n",
    "RuntimeError                              Traceback (most recent call last)\n",
    "<ipython-input-38-4503b07f00fb> in <module>\n",
    "----> 1 out = F.conv2d(x,w,b,stride = 1,padding = 1)\n",
    "\n",
    "RuntimeError: Given groups=1, weight of size [16, 3, 5, 5], expected input[1, 1, 28, 28] to have 3 channels, but got 1 channels instead\n",
    "```"
   ]
  },
  {
   "cell_type": "code",
   "execution_count": 11,
   "metadata": {},
   "outputs": [
    {
     "data": {
      "text/plain": [
       "torch.Size([1, 16, 26, 26])"
      ]
     },
     "execution_count": 11,
     "metadata": {},
     "output_type": "execute_result"
    }
   ],
   "source": [
    "x = torch.randn(1,3,28,28)\n",
    "out = F.conv2d(x,w,b,stride = 1,padding = 1)\n",
    "out.size()"
   ]
  },
  {
   "cell_type": "code",
   "execution_count": 12,
   "metadata": {},
   "outputs": [
    {
     "data": {
      "text/plain": [
       "torch.Size([1, 16, 14, 14])"
      ]
     },
     "execution_count": 12,
     "metadata": {},
     "output_type": "execute_result"
    }
   ],
   "source": [
    "out = F.conv2d(x,w,b,stride = 2,padding = 2)\n",
    "out.size()"
   ]
  }
 ],
 "metadata": {
  "kernelspec": {
   "display_name": "Python 3",
   "language": "python",
   "name": "python3"
  },
  "language_info": {
   "codemirror_mode": {
    "name": "ipython",
    "version": 3
   },
   "file_extension": ".py",
   "mimetype": "text/x-python",
   "name": "python",
   "nbconvert_exporter": "python",
   "pygments_lexer": "ipython3",
   "version": "3.8.3"
  }
 },
 "nbformat": 4,
 "nbformat_minor": 4
}
