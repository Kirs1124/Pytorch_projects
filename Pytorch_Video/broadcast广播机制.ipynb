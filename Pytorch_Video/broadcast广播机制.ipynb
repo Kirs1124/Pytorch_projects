{
 "cells": [
  {
   "cell_type": "markdown",
   "metadata": {},
   "source": [
    "### key idea"
   ]
  },
  {
   "cell_type": "markdown",
   "metadata": {},
   "source": [
    "- insert 1 dim ahead\n",
    "- expand dims with size 1 to same size\n",
    "- feature maps: [4, 32, 14, 14]\n",
    "- Bias: [32, 1, 1] => [1, 32, 1, 1] => [4, 32, 14, 14]"
   ]
  },
  {
   "cell_type": "markdown",
   "metadata": {},
   "source": [
    "### Is it broadcasting-able?"
   ]
  },
  {
   "cell_type": "markdown",
   "metadata": {},
   "source": [
    "- Match from **Last** dim!\n",
    "    - if current dim = 1, expand to same\n",
    "    - if either has no dim, insert one dim and expand to same\n",
    "    - otherwise, NOT broadcasting-able"
   ]
  }
 ],
 "metadata": {
  "kernelspec": {
   "display_name": "Python [conda env:Pytorch]",
   "language": "python",
   "name": "conda-env-Pytorch-py"
  },
  "language_info": {
   "codemirror_mode": {
    "name": "ipython",
    "version": 3
   },
   "file_extension": ".py",
   "mimetype": "text/x-python",
   "name": "python",
   "nbconvert_exporter": "python",
   "pygments_lexer": "ipython3",
   "version": "3.7.9"
  }
 },
 "nbformat": 4,
 "nbformat_minor": 4
}
