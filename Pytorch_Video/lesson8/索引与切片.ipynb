{
 "cells": [
  {
   "cell_type": "code",
   "execution_count": 1,
   "metadata": {},
   "outputs": [],
   "source": [
    "import torch\n",
    "import numpy as np"
   ]
  },
  {
   "cell_type": "markdown",
   "metadata": {},
   "source": [
    "Indexing"
   ]
  },
  {
   "cell_type": "code",
   "execution_count": 2,
   "metadata": {},
   "outputs": [],
   "source": [
    "a = torch.rand(4, 3, 28, 28)"
   ]
  },
  {
   "cell_type": "code",
   "execution_count": 3,
   "metadata": {},
   "outputs": [
    {
     "data": {
      "text/plain": [
       "torch.Size([3, 28, 28])"
      ]
     },
     "execution_count": 3,
     "metadata": {},
     "output_type": "execute_result"
    }
   ],
   "source": [
    "a[0].shape"
   ]
  },
  {
   "cell_type": "code",
   "execution_count": 4,
   "metadata": {},
   "outputs": [
    {
     "data": {
      "text/plain": [
       "tensor([[[[0.9056, 0.5328, 0.4994,  ..., 0.6642, 0.5407, 0.5887],\n",
       "          [0.9863, 0.3606, 0.3721,  ..., 0.2671, 0.5716, 0.8645],\n",
       "          [0.9325, 0.2319, 0.6533,  ..., 0.8799, 0.4280, 0.8268],\n",
       "          ...,\n",
       "          [0.2528, 0.1360, 0.7583,  ..., 0.7113, 0.9377, 0.5515],\n",
       "          [0.9620, 0.7963, 0.6496,  ..., 0.7057, 0.3719, 0.4935],\n",
       "          [0.0810, 0.3986, 0.1579,  ..., 0.8486, 0.3855, 0.8260]],\n",
       "\n",
       "         [[0.5260, 0.4649, 0.0415,  ..., 0.7200, 0.1841, 0.4387],\n",
       "          [0.3638, 0.7860, 0.2468,  ..., 0.5449, 0.3033, 0.9138],\n",
       "          [0.7556, 0.8623, 0.7097,  ..., 0.4238, 0.3083, 0.9366],\n",
       "          ...,\n",
       "          [0.5461, 0.7673, 0.2073,  ..., 0.4199, 0.2138, 0.3633],\n",
       "          [0.5673, 0.5162, 0.1025,  ..., 0.1619, 0.9487, 0.5245],\n",
       "          [0.5879, 0.0373, 0.2243,  ..., 0.9901, 0.4215, 0.8730]],\n",
       "\n",
       "         [[0.0235, 0.7941, 0.8304,  ..., 0.2037, 0.0054, 0.8953],\n",
       "          [0.2183, 0.7083, 0.9322,  ..., 0.4733, 0.6662, 0.8058],\n",
       "          [0.0413, 0.1402, 0.2449,  ..., 0.6947, 0.8549, 0.4460],\n",
       "          ...,\n",
       "          [0.0718, 0.7479, 0.1488,  ..., 0.8565, 0.3690, 0.4622],\n",
       "          [0.6210, 0.1205, 0.8990,  ..., 0.9664, 0.0822, 0.5787],\n",
       "          [0.6682, 0.6627, 0.7617,  ..., 0.2730, 0.3680, 0.2231]]],\n",
       "\n",
       "\n",
       "        [[[0.5916, 0.7830, 0.1053,  ..., 0.8255, 0.7626, 0.8117],\n",
       "          [0.4853, 0.4490, 0.6586,  ..., 0.8754, 0.7945, 0.8580],\n",
       "          [0.9847, 0.5429, 0.7010,  ..., 0.7446, 0.3955, 0.0415],\n",
       "          ...,\n",
       "          [0.9914, 0.9840, 0.5644,  ..., 0.7955, 0.6476, 0.3151],\n",
       "          [0.9193, 0.0869, 0.6342,  ..., 0.9314, 0.0629, 0.9774],\n",
       "          [0.3294, 0.5159, 0.9239,  ..., 0.9746, 0.1043, 0.3150]],\n",
       "\n",
       "         [[0.4018, 0.0191, 0.9500,  ..., 0.9089, 0.7982, 0.3017],\n",
       "          [0.4152, 0.7926, 0.2773,  ..., 0.6894, 0.1036, 0.1564],\n",
       "          [0.3647, 0.8050, 0.7425,  ..., 0.2462, 0.3122, 0.5993],\n",
       "          ...,\n",
       "          [0.3992, 0.6030, 0.5825,  ..., 0.1467, 0.1715, 0.0281],\n",
       "          [0.5301, 0.6444, 0.2799,  ..., 0.4401, 0.9781, 0.4736],\n",
       "          [0.6486, 0.2548, 0.1435,  ..., 0.6343, 0.9226, 0.1747]],\n",
       "\n",
       "         [[0.0285, 0.5554, 0.8832,  ..., 0.4500, 0.2182, 0.8853],\n",
       "          [0.9621, 0.3126, 0.2463,  ..., 0.8433, 0.9325, 0.8133],\n",
       "          [0.2713, 0.3182, 0.1709,  ..., 0.8842, 0.3908, 0.6088],\n",
       "          ...,\n",
       "          [0.8455, 0.9504, 0.8075,  ..., 0.7527, 0.4770, 0.3226],\n",
       "          [0.2842, 0.6166, 0.6118,  ..., 0.3989, 0.2617, 0.6839],\n",
       "          [0.6970, 0.0495, 0.3519,  ..., 0.0624, 0.8180, 0.5194]]],\n",
       "\n",
       "\n",
       "        [[[0.6967, 0.2250, 0.4124,  ..., 0.5548, 0.6890, 0.3897],\n",
       "          [0.9684, 0.6757, 0.7189,  ..., 0.5182, 0.5452, 0.4862],\n",
       "          [0.5444, 0.7139, 0.1189,  ..., 0.9322, 0.4268, 0.5825],\n",
       "          ...,\n",
       "          [0.2899, 0.7451, 0.0688,  ..., 0.7883, 0.7968, 0.1278],\n",
       "          [0.7733, 0.8845, 0.6482,  ..., 0.3253, 0.2633, 0.7725],\n",
       "          [0.1097, 0.9335, 0.6484,  ..., 0.6689, 0.9007, 0.3417]],\n",
       "\n",
       "         [[0.2725, 0.2755, 0.1224,  ..., 0.3269, 0.8426, 0.0861],\n",
       "          [0.1269, 0.2582, 0.9056,  ..., 0.0292, 0.1711, 0.8641],\n",
       "          [0.8982, 0.6039, 0.1816,  ..., 0.7945, 0.5937, 0.4108],\n",
       "          ...,\n",
       "          [0.5773, 0.6339, 0.8204,  ..., 0.1908, 0.4758, 0.3879],\n",
       "          [0.7203, 0.5541, 0.8691,  ..., 0.6745, 0.8306, 0.9169],\n",
       "          [0.2927, 0.3028, 0.3223,  ..., 0.2001, 0.9401, 0.8186]],\n",
       "\n",
       "         [[0.9649, 0.9927, 0.9160,  ..., 0.4430, 0.8548, 0.3219],\n",
       "          [0.5158, 0.7600, 0.2760,  ..., 0.9138, 0.0546, 0.5328],\n",
       "          [0.4605, 0.4465, 0.3036,  ..., 0.1599, 0.0184, 0.7785],\n",
       "          ...,\n",
       "          [0.3085, 0.3614, 0.4437,  ..., 0.2676, 0.2221, 0.6925],\n",
       "          [0.9902, 0.0587, 0.7578,  ..., 0.2880, 0.2131, 0.7594],\n",
       "          [0.7818, 0.5083, 0.8465,  ..., 0.9468, 0.3553, 0.5197]]],\n",
       "\n",
       "\n",
       "        [[[0.4112, 0.9150, 0.2190,  ..., 0.3981, 0.6297, 0.4895],\n",
       "          [0.9638, 0.0995, 0.8020,  ..., 0.7169, 0.0260, 0.6814],\n",
       "          [0.7374, 0.8086, 0.0499,  ..., 0.8820, 0.4838, 0.3240],\n",
       "          ...,\n",
       "          [0.3434, 0.1710, 0.0916,  ..., 0.5443, 0.0040, 0.6140],\n",
       "          [0.4628, 0.5814, 0.2572,  ..., 0.3160, 0.1286, 0.1066],\n",
       "          [0.9910, 0.0244, 0.6943,  ..., 0.9789, 0.8839, 0.7055]],\n",
       "\n",
       "         [[0.6617, 0.8068, 0.0623,  ..., 0.4068, 0.1817, 0.2312],\n",
       "          [0.5585, 0.1160, 0.4015,  ..., 0.4139, 0.1928, 0.2603],\n",
       "          [0.5830, 0.9896, 0.3644,  ..., 0.6177, 0.4168, 0.1465],\n",
       "          ...,\n",
       "          [0.6840, 0.6705, 0.7537,  ..., 0.3739, 0.1654, 0.8747],\n",
       "          [0.0612, 0.2092, 0.6976,  ..., 0.8081, 0.6858, 0.9894],\n",
       "          [0.2576, 0.7729, 0.7636,  ..., 0.5400, 0.7903, 0.2539]],\n",
       "\n",
       "         [[0.0400, 0.3911, 0.1757,  ..., 0.3738, 0.5188, 0.5874],\n",
       "          [0.8700, 0.1702, 0.2946,  ..., 0.0701, 0.3545, 0.0953],\n",
       "          [0.9657, 0.6465, 0.8505,  ..., 0.4292, 0.1015, 0.7068],\n",
       "          ...,\n",
       "          [0.8423, 0.6478, 0.6422,  ..., 0.7407, 0.1557, 0.1404],\n",
       "          [0.6107, 0.5329, 0.6520,  ..., 0.8780, 0.6289, 0.5929],\n",
       "          [0.6984, 0.2814, 0.8936,  ..., 0.1834, 0.6185, 0.3318]]]])"
      ]
     },
     "execution_count": 4,
     "metadata": {},
     "output_type": "execute_result"
    }
   ],
   "source": [
    "a"
   ]
  },
  {
   "cell_type": "code",
   "execution_count": 5,
   "metadata": {},
   "outputs": [
    {
     "data": {
      "text/plain": [
       "torch.Size([28, 28])"
      ]
     },
     "execution_count": 5,
     "metadata": {},
     "output_type": "execute_result"
    }
   ],
   "source": [
    "a[0, 0].shape"
   ]
  },
  {
   "cell_type": "code",
   "execution_count": 6,
   "metadata": {},
   "outputs": [
    {
     "data": {
      "text/plain": [
       "tensor(0.6903)"
      ]
     },
     "execution_count": 6,
     "metadata": {},
     "output_type": "execute_result"
    }
   ],
   "source": [
    "a[0,0,2,4]"
   ]
  },
  {
   "cell_type": "markdown",
   "metadata": {},
   "source": [
    "select first / last N"
   ]
  },
  {
   "cell_type": "code",
   "execution_count": 7,
   "metadata": {},
   "outputs": [
    {
     "data": {
      "text/plain": [
       "torch.Size([4, 3, 28, 28])"
      ]
     },
     "execution_count": 7,
     "metadata": {},
     "output_type": "execute_result"
    }
   ],
   "source": [
    "a.shape"
   ]
  },
  {
   "cell_type": "code",
   "execution_count": 8,
   "metadata": {},
   "outputs": [
    {
     "data": {
      "text/plain": [
       "torch.Size([2, 3, 28, 28])"
      ]
     },
     "execution_count": 8,
     "metadata": {},
     "output_type": "execute_result"
    }
   ],
   "source": [
    "a[:2].shape"
   ]
  },
  {
   "cell_type": "code",
   "execution_count": 9,
   "metadata": {},
   "outputs": [
    {
     "data": {
      "text/plain": [
       "torch.Size([2, 1, 28, 28])"
      ]
     },
     "execution_count": 9,
     "metadata": {},
     "output_type": "execute_result"
    }
   ],
   "source": [
    "a[:2, :1, :, :].shape"
   ]
  },
  {
   "cell_type": "code",
   "execution_count": 10,
   "metadata": {},
   "outputs": [
    {
     "data": {
      "text/plain": [
       "torch.Size([2, 1, 28, 28])"
      ]
     },
     "execution_count": 10,
     "metadata": {},
     "output_type": "execute_result"
    }
   ],
   "source": [
    "a[:2, :1,].shape"
   ]
  },
  {
   "cell_type": "code",
   "execution_count": 11,
   "metadata": {},
   "outputs": [
    {
     "data": {
      "text/plain": [
       "torch.Size([2, 2, 28, 28])"
      ]
     },
     "execution_count": 11,
     "metadata": {},
     "output_type": "execute_result"
    }
   ],
   "source": [
    "a[:2, 1:,].shape"
   ]
  },
  {
   "cell_type": "code",
   "execution_count": 13,
   "metadata": {},
   "outputs": [
    {
     "data": {
      "text/plain": [
       "torch.Size([2, 1, 28, 28])"
      ]
     },
     "execution_count": 13,
     "metadata": {},
     "output_type": "execute_result"
    }
   ],
   "source": [
    "a[:2, -1:, :, :].shape"
   ]
  },
  {
   "cell_type": "markdown",
   "metadata": {},
   "source": [
    "select by steps"
   ]
  },
  {
   "cell_type": "code",
   "execution_count": 14,
   "metadata": {},
   "outputs": [
    {
     "data": {
      "text/plain": [
       "torch.Size([4, 3, 14, 14])"
      ]
     },
     "execution_count": 14,
     "metadata": {},
     "output_type": "execute_result"
    }
   ],
   "source": [
    "a[:, :, 0:28:2, 0:28:2].shape"
   ]
  },
  {
   "cell_type": "code",
   "execution_count": 15,
   "metadata": {},
   "outputs": [
    {
     "data": {
      "text/plain": [
       "torch.Size([4, 3, 14, 14])"
      ]
     },
     "execution_count": 15,
     "metadata": {},
     "output_type": "execute_result"
    }
   ],
   "source": [
    "a[:,:,::2,::2].shape"
   ]
  },
  {
   "cell_type": "markdown",
   "metadata": {},
   "source": [
    " select by specific index"
   ]
  },
  {
   "cell_type": "code",
   "execution_count": 16,
   "metadata": {},
   "outputs": [
    {
     "data": {
      "text/plain": [
       "torch.Size([4, 3, 28, 28])"
      ]
     },
     "execution_count": 16,
     "metadata": {},
     "output_type": "execute_result"
    }
   ],
   "source": [
    "a.shape"
   ]
  },
  {
   "cell_type": "code",
   "execution_count": 21,
   "metadata": {},
   "outputs": [
    {
     "data": {
      "text/plain": [
       "torch.Size([2, 3, 28, 28])"
      ]
     },
     "execution_count": 21,
     "metadata": {},
     "output_type": "execute_result"
    }
   ],
   "source": [
    "a.index_select(0, torch.tensor([0, 2])).shape"
   ]
  },
  {
   "cell_type": "code",
   "execution_count": 22,
   "metadata": {},
   "outputs": [
    {
     "data": {
      "text/plain": [
       "torch.Size([4, 2, 28, 28])"
      ]
     },
     "execution_count": 22,
     "metadata": {},
     "output_type": "execute_result"
    }
   ],
   "source": [
    "a.index_select(1, torch.tensor([1, 2])).shape"
   ]
  },
  {
   "cell_type": "code",
   "execution_count": 23,
   "metadata": {},
   "outputs": [
    {
     "data": {
      "text/plain": [
       "torch.Size([4, 3, 28, 28])"
      ]
     },
     "execution_count": 23,
     "metadata": {},
     "output_type": "execute_result"
    }
   ],
   "source": [
    "a.index_select(2, torch.arange(28)).shape"
   ]
  },
  {
   "cell_type": "code",
   "execution_count": 25,
   "metadata": {},
   "outputs": [
    {
     "data": {
      "text/plain": [
       "torch.Size([4, 3, 8, 28])"
      ]
     },
     "execution_count": 25,
     "metadata": {},
     "output_type": "execute_result"
    }
   ],
   "source": [
    "a.index_select(2, torch.arange(8)).shape"
   ]
  },
  {
   "cell_type": "markdown",
   "metadata": {},
   "source": [
    "..."
   ]
  },
  {
   "cell_type": "code",
   "execution_count": 26,
   "metadata": {},
   "outputs": [
    {
     "data": {
      "text/plain": [
       "torch.Size([4, 3, 28, 28])"
      ]
     },
     "execution_count": 26,
     "metadata": {},
     "output_type": "execute_result"
    }
   ],
   "source": [
    "a.shape"
   ]
  },
  {
   "cell_type": "code",
   "execution_count": 27,
   "metadata": {},
   "outputs": [
    {
     "data": {
      "text/plain": [
       "torch.Size([4, 3, 28, 28])"
      ]
     },
     "execution_count": 27,
     "metadata": {},
     "output_type": "execute_result"
    }
   ],
   "source": [
    "a[...].shape"
   ]
  },
  {
   "cell_type": "code",
   "execution_count": 28,
   "metadata": {},
   "outputs": [
    {
     "data": {
      "text/plain": [
       "torch.Size([3, 28, 28])"
      ]
     },
     "execution_count": 28,
     "metadata": {},
     "output_type": "execute_result"
    }
   ],
   "source": [
    "a[0, ...].shape"
   ]
  },
  {
   "cell_type": "code",
   "execution_count": 29,
   "metadata": {},
   "outputs": [
    {
     "data": {
      "text/plain": [
       "torch.Size([4, 28, 28])"
      ]
     },
     "execution_count": 29,
     "metadata": {},
     "output_type": "execute_result"
    }
   ],
   "source": [
    "a[:, 1, ...].shape"
   ]
  },
  {
   "cell_type": "code",
   "execution_count": 30,
   "metadata": {},
   "outputs": [
    {
     "data": {
      "text/plain": [
       "torch.Size([4, 3, 28, 2])"
      ]
     },
     "execution_count": 30,
     "metadata": {},
     "output_type": "execute_result"
    }
   ],
   "source": [
    "a[..., :2].shape"
   ]
  },
  {
   "cell_type": "code",
   "execution_count": 31,
   "metadata": {},
   "outputs": [
    {
     "data": {
      "text/plain": [
       "torch.Size([3, 28, 14])"
      ]
     },
     "execution_count": 31,
     "metadata": {},
     "output_type": "execute_result"
    }
   ],
   "source": [
    "a[0, ..., ::2].shape"
   ]
  },
  {
   "cell_type": "markdown",
   "metadata": {},
   "source": [
    "select by mask"
   ]
  },
  {
   "cell_type": "code",
   "execution_count": 32,
   "metadata": {},
   "outputs": [],
   "source": [
    "x = torch.randn(3, 4)"
   ]
  },
  {
   "cell_type": "code",
   "execution_count": 33,
   "metadata": {},
   "outputs": [
    {
     "data": {
      "text/plain": [
       "tensor([[-0.3421, -1.1763,  0.7243,  0.0413],\n",
       "        [ 0.1049,  0.4451,  0.6742,  0.5178],\n",
       "        [ 0.1034,  0.8972, -0.5336,  0.7270]])"
      ]
     },
     "execution_count": 33,
     "metadata": {},
     "output_type": "execute_result"
    }
   ],
   "source": [
    "x"
   ]
  },
  {
   "cell_type": "code",
   "execution_count": 34,
   "metadata": {},
   "outputs": [],
   "source": [
    "mask = x.ge(0.5)"
   ]
  },
  {
   "cell_type": "code",
   "execution_count": 37,
   "metadata": {},
   "outputs": [
    {
     "data": {
      "text/plain": [
       "tensor([[False, False,  True, False],\n",
       "        [False, False,  True,  True],\n",
       "        [False,  True, False,  True]])"
      ]
     },
     "execution_count": 37,
     "metadata": {},
     "output_type": "execute_result"
    }
   ],
   "source": [
    "mask"
   ]
  },
  {
   "cell_type": "code",
   "execution_count": 36,
   "metadata": {
    "scrolled": true
   },
   "outputs": [
    {
     "data": {
      "text/plain": [
       "tensor([0.7243, 0.6742, 0.5178, 0.8972, 0.7270])"
      ]
     },
     "execution_count": 36,
     "metadata": {},
     "output_type": "execute_result"
    }
   ],
   "source": [
    "torch.masked_select(x, mask)"
   ]
  },
  {
   "cell_type": "code",
   "execution_count": 38,
   "metadata": {},
   "outputs": [
    {
     "data": {
      "text/plain": [
       "torch.Size([5])"
      ]
     },
     "execution_count": 38,
     "metadata": {},
     "output_type": "execute_result"
    }
   ],
   "source": [
    "torch.masked_select(x, mask).shape"
   ]
  },
  {
   "cell_type": "markdown",
   "metadata": {},
   "source": [
    "select by flatten index"
   ]
  },
  {
   "cell_type": "code",
   "execution_count": 39,
   "metadata": {},
   "outputs": [],
   "source": [
    "src = torch.tensor([[4, 3, 5], [6, 7, 8]])"
   ]
  },
  {
   "cell_type": "code",
   "execution_count": 40,
   "metadata": {},
   "outputs": [
    {
     "data": {
      "text/plain": [
       "tensor([[4, 3, 5],\n",
       "        [6, 7, 8]])"
      ]
     },
     "execution_count": 40,
     "metadata": {},
     "output_type": "execute_result"
    }
   ],
   "source": [
    "src"
   ]
  },
  {
   "cell_type": "code",
   "execution_count": 41,
   "metadata": {},
   "outputs": [
    {
     "data": {
      "text/plain": [
       "tensor([4, 5, 8])"
      ]
     },
     "execution_count": 41,
     "metadata": {},
     "output_type": "execute_result"
    }
   ],
   "source": [
    "torch.take(src, torch.tensor([0, 2, 5]))"
   ]
  },
  {
   "cell_type": "code",
   "execution_count": null,
   "metadata": {},
   "outputs": [],
   "source": []
  }
 ],
 "metadata": {
  "kernelspec": {
   "display_name": "Python [conda env:Pytorch]",
   "language": "python",
   "name": "conda-env-Pytorch-py"
  },
  "language_info": {
   "codemirror_mode": {
    "name": "ipython",
    "version": 3
   },
   "file_extension": ".py",
   "mimetype": "text/x-python",
   "name": "python",
   "nbconvert_exporter": "python",
   "pygments_lexer": "ipython3",
   "version": "3.7.9"
  }
 },
 "nbformat": 4,
 "nbformat_minor": 4
}
