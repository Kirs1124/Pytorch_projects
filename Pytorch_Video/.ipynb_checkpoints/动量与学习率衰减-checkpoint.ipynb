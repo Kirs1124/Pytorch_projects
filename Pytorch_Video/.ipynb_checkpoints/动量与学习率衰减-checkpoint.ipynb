{
 "cells": [
  {
   "cell_type": "markdown",
   "metadata": {},
   "source": [
    "### $Tricks$\n",
    "\n",
    "- $momenetum$\n",
    "- $learning\\space rate\\space decay$"
   ]
  },
  {
   "cell_type": "markdown",
   "metadata": {},
   "source": [
    "$momentum$\n",
    "```python\n",
    "optimizer = torch.optim.SGD(model.parameters().args.lr,\n",
    "                               momentum = args.momentum,\n",
    "                               weight_decay = args.weight_decay)\n",
    "scheduler = ReduceLOonPlateau(optimizer,'min')\n",
    "for epoch in xrange(args.start_epoch,args.epochs):\n",
    "    train(train_loader,model,criterion,optimizer,epoch)\n",
    "    result_avg,loss_val = validate(val_loader,model,criterion,epoch)\n",
    "    scheduler.step(loss_val)\n",
    "```\n",
    "\n",
    "$Learning\\space rate\\space tunning$\n",
    "\n",
    "$Scheme 1.$\n",
    "```python\n",
    "optimizer = torch.optim.SGD(model.parameters().args.lr,\n",
    "                               momentum = args.momentum,\n",
    "                               weight_decay = args.weight_decay)\n",
    "scheduler = ReduceLOonPlateau(optimizer,'min')\n",
    "for epoch in xrange(args.start_epoch,args.epochs):\n",
    "    train(train_loader,model,criterion,optimizer,epoch)\n",
    "    result_avg,loss_val = validate(val_loader,model,criterion,epoch)\n",
    "    scheduler.step(loss_val)\n",
    "```\n",
    "$Scheme 2.$\n",
    "```python\n",
    "scheduler = StepLR(optimizer,step_size = 30,gamma = 0.1)\n",
    "for epoch in range(100):\n",
    "    scheduler.step()\n",
    "    train(...)\n",
    "    validate(...)\n",
    "```"
   ]
  }
 ],
 "metadata": {
  "kernelspec": {
   "display_name": "Python 3",
   "language": "python",
   "name": "python3"
  },
  "language_info": {
   "codemirror_mode": {
    "name": "ipython",
    "version": 3
   },
   "file_extension": ".py",
   "mimetype": "text/x-python",
   "name": "python",
   "nbconvert_exporter": "python",
   "pygments_lexer": "ipython3",
   "version": "3.8.3"
  }
 },
 "nbformat": 4,
 "nbformat_minor": 4
}
