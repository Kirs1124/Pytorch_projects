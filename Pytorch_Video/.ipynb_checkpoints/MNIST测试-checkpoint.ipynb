{
 "cells": [
  {
   "cell_type": "code",
   "execution_count": 1,
   "metadata": {},
   "outputs": [],
   "source": [
    "import torch\n",
    "from torch.nn import functional as F\n",
    "import torch.nn as nn\n",
    "import torchvision\n",
    "from torchvision import datasets,transforms\n",
    "import torch.optim as optim"
   ]
  },
  {
   "cell_type": "markdown",
   "metadata": {},
   "source": [
    "$example$"
   ]
  },
  {
   "cell_type": "code",
   "execution_count": 2,
   "metadata": {},
   "outputs": [],
   "source": [
    "logits = torch.rand(4,10)"
   ]
  },
  {
   "cell_type": "code",
   "execution_count": 3,
   "metadata": {},
   "outputs": [],
   "source": [
    "pred = F.softmax(logits,dim = 1)"
   ]
  },
  {
   "cell_type": "code",
   "execution_count": 4,
   "metadata": {},
   "outputs": [
    {
     "data": {
      "text/plain": [
       "torch.Size([4, 10])"
      ]
     },
     "execution_count": 4,
     "metadata": {},
     "output_type": "execute_result"
    }
   ],
   "source": [
    "pred.shape"
   ]
  },
  {
   "cell_type": "code",
   "execution_count": 5,
   "metadata": {},
   "outputs": [],
   "source": [
    "pred_label = pred.argmax(dim = 1)"
   ]
  },
  {
   "cell_type": "code",
   "execution_count": 6,
   "metadata": {},
   "outputs": [
    {
     "data": {
      "text/plain": [
       "tensor([8, 1, 8, 4])"
      ]
     },
     "execution_count": 6,
     "metadata": {},
     "output_type": "execute_result"
    }
   ],
   "source": [
    "pred_label"
   ]
  },
  {
   "cell_type": "code",
   "execution_count": 7,
   "metadata": {},
   "outputs": [
    {
     "data": {
      "text/plain": [
       "tensor([8, 1, 8, 4])"
      ]
     },
     "execution_count": 7,
     "metadata": {},
     "output_type": "execute_result"
    }
   ],
   "source": [
    "logits.argmax(dim = 1)"
   ]
  },
  {
   "cell_type": "code",
   "execution_count": 8,
   "metadata": {},
   "outputs": [],
   "source": [
    "label = torch.tensor([5,4,3,9])\n",
    "correct = torch.eq(pred_label,label)"
   ]
  },
  {
   "cell_type": "code",
   "execution_count": 9,
   "metadata": {},
   "outputs": [
    {
     "data": {
      "text/plain": [
       "tensor([False, False, False, False])"
      ]
     },
     "execution_count": 9,
     "metadata": {},
     "output_type": "execute_result"
    }
   ],
   "source": [
    "correct"
   ]
  },
  {
   "cell_type": "code",
   "execution_count": 10,
   "metadata": {},
   "outputs": [
    {
     "data": {
      "text/plain": [
       "tensor(0.)"
      ]
     },
     "execution_count": 10,
     "metadata": {},
     "output_type": "execute_result"
    }
   ],
   "source": [
    "correct.sum().float().sum()/4"
   ]
  },
  {
   "cell_type": "markdown",
   "metadata": {},
   "source": [
    "### $When\\space to\\space test$\n",
    "\n",
    "- $test\\space once\\space per \\space several \\space batch$\n",
    "\n",
    "- $test\\space once\\space per \\space epoch$\n",
    "\n",
    "- $epoch\\space V.S.\\space step$"
   ]
  },
  {
   "cell_type": "code",
   "execution_count": 11,
   "metadata": {},
   "outputs": [],
   "source": [
    "learning_rate = 1e-2\n",
    "batch_size = 64\n",
    "epochs = 10"
   ]
  },
  {
   "cell_type": "code",
   "execution_count": 12,
   "metadata": {},
   "outputs": [],
   "source": [
    "train_loader = torch.utils.data.DataLoader(torchvision.datasets.MNIST('datasets/mnist_data',\n",
    "                train=True,\n",
    "                download=True,\n",
    "                transform=torchvision.transforms.Compose([\n",
    "                torchvision.transforms.ToTensor(),                       # 数据类型转化\n",
    "                torchvision.transforms.Normalize((0.1307, ), (0.3081, )) # 数据归一化处理\n",
    "    ])), batch_size=batch_size,shuffle=True)\n",
    "\n",
    "test_loader = torch.utils.data.DataLoader(torchvision.datasets.MNIST('datasets/mnist_data/',\n",
    "                train=False,\n",
    "                download=True,\n",
    "                transform=torchvision.transforms.Compose([\n",
    "                torchvision.transforms.ToTensor(),\n",
    "                torchvision.transforms.Normalize((0.1307, ), (0.3081, ))\n",
    "    ])),batch_size=batch_size,shuffle=False)"
   ]
  },
  {
   "cell_type": "code",
   "execution_count": 13,
   "metadata": {},
   "outputs": [],
   "source": [
    "class MLP(nn.Module):\n",
    "    def __init__(self):\n",
    "        super(MLP,self).__init__()\n",
    "        self.model = nn.Sequential(\n",
    "            nn.Linear(784,200),\n",
    "            nn.LeakyReLU(inplace = True),\n",
    "            nn.Linear(200,200),\n",
    "            nn.LeakyReLU(inplace = True),\n",
    "            nn.Linear(200,10),\n",
    "            nn.LeakyReLU(inplace = True)\n",
    "        )\n",
    "        \n",
    "    def forward(self,x):\n",
    "        x = self.model(x)\n",
    "        \n",
    "        return x"
   ]
  },
  {
   "cell_type": "code",
   "execution_count": 14,
   "metadata": {},
   "outputs": [],
   "source": [
    "device = torch.device('cuda:0')\n",
    "net = MLP().to(device)\n",
    "optimizer = optim.SGD(net.parameters(),lr = learning_rate)\n",
    "criteon = nn.CrossEntropyLoss().to(device)"
   ]
  },
  {
   "cell_type": "code",
   "execution_count": 15,
   "metadata": {},
   "outputs": [
    {
     "name": "stdout",
     "output_type": "stream",
     "text": [
      "Train Epoch: 0 [0/60000 (0%)]\tLoss: 2.296161\n",
      "Train Epoch: 0 [6400/60000 (11%)]\tLoss: 2.174675\n",
      "Train Epoch: 0 [12800/60000 (21%)]\tLoss: 1.710163\n",
      "Train Epoch: 0 [19200/60000 (32%)]\tLoss: 1.298594\n",
      "Train Epoch: 0 [25600/60000 (43%)]\tLoss: 1.123404\n",
      "Train Epoch: 0 [32000/60000 (53%)]\tLoss: 0.849802\n",
      "Train Epoch: 0 [38400/60000 (64%)]\tLoss: 0.776629\n",
      "Train Epoch: 0 [44800/60000 (75%)]\tLoss: 0.842052\n",
      "Train Epoch: 0 [51200/60000 (85%)]\tLoss: 0.331592\n",
      "Train Epoch: 0 [57600/60000 (96%)]\tLoss: 0.566660\n",
      "\n",
      "Test set: Average loss: 0.0058, Accuracy: 8965/10000 (90%)\n",
      "\n",
      "Train Epoch: 1 [0/60000 (0%)]\tLoss: 0.354701\n",
      "Train Epoch: 1 [6400/60000 (11%)]\tLoss: 0.359925\n",
      "Train Epoch: 1 [12800/60000 (21%)]\tLoss: 0.433021\n",
      "Train Epoch: 1 [19200/60000 (32%)]\tLoss: 0.234334\n",
      "Train Epoch: 1 [25600/60000 (43%)]\tLoss: 0.302038\n",
      "Train Epoch: 1 [32000/60000 (53%)]\tLoss: 0.299502\n",
      "Train Epoch: 1 [38400/60000 (64%)]\tLoss: 0.277855\n",
      "Train Epoch: 1 [44800/60000 (75%)]\tLoss: 0.264468\n",
      "Train Epoch: 1 [51200/60000 (85%)]\tLoss: 0.359073\n",
      "Train Epoch: 1 [57600/60000 (96%)]\tLoss: 0.272141\n",
      "\n",
      "Test set: Average loss: 0.0043, Accuracy: 9207/10000 (92%)\n",
      "\n",
      "Train Epoch: 2 [0/60000 (0%)]\tLoss: 0.242520\n",
      "Train Epoch: 2 [6400/60000 (11%)]\tLoss: 0.303747\n",
      "Train Epoch: 2 [12800/60000 (21%)]\tLoss: 0.206419\n",
      "Train Epoch: 2 [19200/60000 (32%)]\tLoss: 0.105248\n",
      "Train Epoch: 2 [25600/60000 (43%)]\tLoss: 0.297630\n",
      "Train Epoch: 2 [32000/60000 (53%)]\tLoss: 0.283685\n",
      "Train Epoch: 2 [38400/60000 (64%)]\tLoss: 0.241153\n",
      "Train Epoch: 2 [44800/60000 (75%)]\tLoss: 0.174576\n",
      "Train Epoch: 2 [51200/60000 (85%)]\tLoss: 0.149958\n",
      "Train Epoch: 2 [57600/60000 (96%)]\tLoss: 0.087019\n",
      "\n",
      "Test set: Average loss: 0.0036, Accuracy: 9335/10000 (93%)\n",
      "\n",
      "Train Epoch: 3 [0/60000 (0%)]\tLoss: 0.129110\n",
      "Train Epoch: 3 [6400/60000 (11%)]\tLoss: 0.205983\n",
      "Train Epoch: 3 [12800/60000 (21%)]\tLoss: 0.251451\n",
      "Train Epoch: 3 [19200/60000 (32%)]\tLoss: 0.229581\n",
      "Train Epoch: 3 [25600/60000 (43%)]\tLoss: 0.229527\n",
      "Train Epoch: 3 [32000/60000 (53%)]\tLoss: 0.377872\n",
      "Train Epoch: 3 [38400/60000 (64%)]\tLoss: 0.273904\n",
      "Train Epoch: 3 [44800/60000 (75%)]\tLoss: 0.158516\n",
      "Train Epoch: 3 [51200/60000 (85%)]\tLoss: 0.355361\n",
      "Train Epoch: 3 [57600/60000 (96%)]\tLoss: 0.177933\n",
      "\n",
      "Test set: Average loss: 0.0032, Accuracy: 9387/10000 (94%)\n",
      "\n",
      "Train Epoch: 4 [0/60000 (0%)]\tLoss: 0.150787\n",
      "Train Epoch: 4 [6400/60000 (11%)]\tLoss: 0.373125\n",
      "Train Epoch: 4 [12800/60000 (21%)]\tLoss: 0.143876\n",
      "Train Epoch: 4 [19200/60000 (32%)]\tLoss: 0.244145\n",
      "Train Epoch: 4 [25600/60000 (43%)]\tLoss: 0.144329\n",
      "Train Epoch: 4 [32000/60000 (53%)]\tLoss: 0.215092\n",
      "Train Epoch: 4 [38400/60000 (64%)]\tLoss: 0.213120\n",
      "Train Epoch: 4 [44800/60000 (75%)]\tLoss: 0.164351\n",
      "Train Epoch: 4 [51200/60000 (85%)]\tLoss: 0.233291\n",
      "Train Epoch: 4 [57600/60000 (96%)]\tLoss: 0.259193\n",
      "\n",
      "Test set: Average loss: 0.0027, Accuracy: 9490/10000 (95%)\n",
      "\n",
      "Train Epoch: 5 [0/60000 (0%)]\tLoss: 0.193868\n",
      "Train Epoch: 5 [6400/60000 (11%)]\tLoss: 0.179972\n",
      "Train Epoch: 5 [12800/60000 (21%)]\tLoss: 0.189651\n",
      "Train Epoch: 5 [19200/60000 (32%)]\tLoss: 0.245917\n",
      "Train Epoch: 5 [25600/60000 (43%)]\tLoss: 0.055917\n",
      "Train Epoch: 5 [32000/60000 (53%)]\tLoss: 0.100769\n",
      "Train Epoch: 5 [38400/60000 (64%)]\tLoss: 0.123990\n",
      "Train Epoch: 5 [44800/60000 (75%)]\tLoss: 0.128610\n",
      "Train Epoch: 5 [51200/60000 (85%)]\tLoss: 0.099360\n",
      "Train Epoch: 5 [57600/60000 (96%)]\tLoss: 0.325933\n",
      "\n",
      "Test set: Average loss: 0.0025, Accuracy: 9521/10000 (95%)\n",
      "\n",
      "Train Epoch: 6 [0/60000 (0%)]\tLoss: 0.110547\n",
      "Train Epoch: 6 [6400/60000 (11%)]\tLoss: 0.308494\n",
      "Train Epoch: 6 [12800/60000 (21%)]\tLoss: 0.141154\n",
      "Train Epoch: 6 [19200/60000 (32%)]\tLoss: 0.109769\n",
      "Train Epoch: 6 [25600/60000 (43%)]\tLoss: 0.067110\n",
      "Train Epoch: 6 [32000/60000 (53%)]\tLoss: 0.154799\n",
      "Train Epoch: 6 [38400/60000 (64%)]\tLoss: 0.192036\n",
      "Train Epoch: 6 [44800/60000 (75%)]\tLoss: 0.099732\n",
      "Train Epoch: 6 [51200/60000 (85%)]\tLoss: 0.252189\n",
      "Train Epoch: 6 [57600/60000 (96%)]\tLoss: 0.130071\n",
      "\n",
      "Test set: Average loss: 0.0023, Accuracy: 9577/10000 (96%)\n",
      "\n",
      "Train Epoch: 7 [0/60000 (0%)]\tLoss: 0.117361\n",
      "Train Epoch: 7 [6400/60000 (11%)]\tLoss: 0.203675\n",
      "Train Epoch: 7 [12800/60000 (21%)]\tLoss: 0.248491\n",
      "Train Epoch: 7 [19200/60000 (32%)]\tLoss: 0.070090\n",
      "Train Epoch: 7 [25600/60000 (43%)]\tLoss: 0.163520\n",
      "Train Epoch: 7 [32000/60000 (53%)]\tLoss: 0.225450\n",
      "Train Epoch: 7 [38400/60000 (64%)]\tLoss: 0.167260\n",
      "Train Epoch: 7 [44800/60000 (75%)]\tLoss: 0.066355\n",
      "Train Epoch: 7 [51200/60000 (85%)]\tLoss: 0.167147\n",
      "Train Epoch: 7 [57600/60000 (96%)]\tLoss: 0.153940\n",
      "\n",
      "Test set: Average loss: 0.0020, Accuracy: 9617/10000 (96%)\n",
      "\n",
      "Train Epoch: 8 [0/60000 (0%)]\tLoss: 0.069869\n",
      "Train Epoch: 8 [6400/60000 (11%)]\tLoss: 0.150367\n",
      "Train Epoch: 8 [12800/60000 (21%)]\tLoss: 0.129004\n",
      "Train Epoch: 8 [19200/60000 (32%)]\tLoss: 0.069695\n",
      "Train Epoch: 8 [25600/60000 (43%)]\tLoss: 0.087835\n",
      "Train Epoch: 8 [32000/60000 (53%)]\tLoss: 0.071665\n",
      "Train Epoch: 8 [38400/60000 (64%)]\tLoss: 0.076850\n",
      "Train Epoch: 8 [44800/60000 (75%)]\tLoss: 0.121677\n",
      "Train Epoch: 8 [51200/60000 (85%)]\tLoss: 0.146756\n",
      "Train Epoch: 8 [57600/60000 (96%)]\tLoss: 0.171395\n",
      "\n",
      "Test set: Average loss: 0.0019, Accuracy: 9630/10000 (96%)\n",
      "\n",
      "Train Epoch: 9 [0/60000 (0%)]\tLoss: 0.101290\n",
      "Train Epoch: 9 [6400/60000 (11%)]\tLoss: 0.064415\n",
      "Train Epoch: 9 [12800/60000 (21%)]\tLoss: 0.035457\n",
      "Train Epoch: 9 [19200/60000 (32%)]\tLoss: 0.199649\n",
      "Train Epoch: 9 [25600/60000 (43%)]\tLoss: 0.044841\n",
      "Train Epoch: 9 [32000/60000 (53%)]\tLoss: 0.152109\n",
      "Train Epoch: 9 [38400/60000 (64%)]\tLoss: 0.107181\n",
      "Train Epoch: 9 [44800/60000 (75%)]\tLoss: 0.045055\n",
      "Train Epoch: 9 [51200/60000 (85%)]\tLoss: 0.028802\n",
      "Train Epoch: 9 [57600/60000 (96%)]\tLoss: 0.033526\n",
      "\n",
      "Test set: Average loss: 0.0018, Accuracy: 9649/10000 (96%)\n",
      "\n"
     ]
    }
   ],
   "source": [
    "for epoch in range(epochs):\n",
    "    for batch_idx,(data,target) in enumerate(train_loader):\n",
    "        data = data.view(-1,28*28)\n",
    "        data,target = data.to(device),target.to(device)\n",
    "        \n",
    "        logits = net(data)\n",
    "        loss = criteon(logits,target)\n",
    "        \n",
    "        optimizer.zero_grad()\n",
    "        loss.backward()\n",
    "        \n",
    "        optimizer.step()\n",
    "        \n",
    "        if batch_idx % 100 == 0:\n",
    "            print('Train Epoch: {} [{}/{} ({:.0f}%)]\\tLoss: {:.6f}'.format(\n",
    "                epoch, batch_idx * len(data), len(train_loader.dataset),\n",
    "                       100. * batch_idx / len(train_loader), loss.item()))\n",
    "            \n",
    "    test_loss = 0\n",
    "    correct = 0\n",
    "    for data, target in test_loader:\n",
    "        data = data.view(-1, 28 * 28)\n",
    "        data, target = data.to(device), target.cuda()\n",
    "        logits = net(data)\n",
    "        test_loss += criteon(logits, target).item()\n",
    "\n",
    "        pred = logits.data.max(1)[1]\n",
    "        correct += pred.eq(target.data).sum()\n",
    "\n",
    "    test_loss /= len(test_loader.dataset)\n",
    "    print('\\nTest set: Average loss: {:.4f}, Accuracy: {}/{} ({:.0f}%)\\n'.format(\n",
    "        test_loss, correct, len(test_loader.dataset),\n",
    "        100. * correct / len(test_loader.dataset)))"
   ]
  },
  {
   "cell_type": "code",
   "execution_count": null,
   "metadata": {},
   "outputs": [],
   "source": []
  }
 ],
 "metadata": {
  "kernelspec": {
   "display_name": "Python [conda env:Pytorch]",
   "language": "python",
   "name": "conda-env-Pytorch-py"
  },
  "language_info": {
   "codemirror_mode": {
    "name": "ipython",
    "version": 3
   },
   "file_extension": ".py",
   "mimetype": "text/x-python",
   "name": "python",
   "nbconvert_exporter": "python",
   "pygments_lexer": "ipython3",
   "version": "3.7.9"
  }
 },
 "nbformat": 4,
 "nbformat_minor": 4
}
